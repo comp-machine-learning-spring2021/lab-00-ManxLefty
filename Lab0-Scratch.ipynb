{
 "cells": [
  {
   "cell_type": "markdown",
   "id": "strong-animal",
   "metadata": {},
   "source": [
    "# Lab 0 Scratch Work\n",
    "\n",
    "Iver Warburton\n",
    "<br> CSC 294\n",
    "<br> 18 February 2021"
   ]
  },
  {
   "cell_type": "code",
   "execution_count": 1,
   "id": "pressed-raleigh",
   "metadata": {},
   "outputs": [
    {
     "name": "stdout",
     "output_type": "stream",
     "text": [
      "Hello, Jupyter!\n"
     ]
    }
   ],
   "source": [
    "print(\"Hello, Jupyter!\")"
   ]
  },
  {
   "cell_type": "markdown",
   "id": "appointed-evening",
   "metadata": {},
   "source": [
    "print(\"Uh-oh, Jupyter!\")"
   ]
  },
  {
   "cell_type": "code",
   "execution_count": 2,
   "id": "focused-costs",
   "metadata": {},
   "outputs": [
    {
     "name": "stdout",
     "output_type": "stream",
     "text": [
      "I don't have a great idea of what to code, so here goes:\n",
      "\n",
      "How many trees would you like?\n",
      "42\n",
      "\n",
      "42 trees is not enough trees.  There are never enough trees.\n",
      "\n",
      "This definitely assumes that you do enter a number, but that's a change for another day.My input box also strangely appears in a different location each time I run this.\n"
     ]
    }
   ],
   "source": [
    "print(\"I don't have a great idea of what to code, so here goes:\")\n",
    "print()\n",
    "\n",
    "print(\"How many trees would you like?\")\n",
    "nTrees = input()\n",
    "print()\n",
    "\n",
    "if nTrees:\n",
    "    print(nTrees, \"trees is not enough trees.  There are never enough trees.\")\n",
    "    \n",
    "print()\n",
    "print(\"This definitely assumes that you do enter a number, but that's a change for another day.  \"\n",
    "     \"My input box also strangely appears in a different location each time I run this.\")"
   ]
  },
  {
   "cell_type": "markdown",
   "id": "international-burke",
   "metadata": {},
   "source": [
    "I think we should use a base-60 number system.  60 is far more usable because it has so many factors.  The Sumerians, Babylonians, and Mesopotamians had it right and I'm glad their system passed down to us in our use of time and degrees."
   ]
  },
  {
   "cell_type": "code",
   "execution_count": 7,
   "id": "previous-claim",
   "metadata": {},
   "outputs": [
    {
     "name": "stdout",
     "output_type": "stream",
     "text": [
      "What is the answer to life, the Universe, and everything?\n",
      "\n",
      "42\n"
     ]
    }
   ],
   "source": [
    "theAnswer = 42\n",
    "\n",
    "print(\"What is the answer to life, the Universe, and everything?\")\n",
    "print()\n",
    "\n",
    "userAnswer = input()\n",
    "#print(userAnswer)\n",
    "\n",
    "\n",
    "# Here's a bit of troubleshooting for the next part:\n",
    "#if userAnswer: # == 42: #theAnswer:\n",
    "#    print(\"Excellent!  Happy hitchhiking and don't forget your towel!\")\n",
    "#if userAnswer != 42:\n",
    "#    print(\"Bummer, mate.  So long, and thanks for all the fish.\")"
   ]
  },
  {
   "cell_type": "markdown",
   "id": "seeing-lancaster",
   "metadata": {},
   "source": [
    "I also learned that the Egyptians used this base-60 number system to split a circle into 360 degrees.  They did this because they noted that it took about 360 days for the Sun to retrace its path across the sky (a.k.a. for the Earth to complete an orbit around the Sun), and they thought they might as well set each day to equal a degree along that path."
   ]
  },
  {
   "cell_type": "code",
   "execution_count": 8,
   "id": "starting-eugene",
   "metadata": {},
   "outputs": [
    {
     "name": "stdout",
     "output_type": "stream",
     "text": [
      "Bummer, mate.  So long, and thanks for all the fish.\n",
      "\n",
      "Alright, that bit isn't working yet, but I'll mess around with this later when I have a chance and don't need to jump to other work.\n"
     ]
    }
   ],
   "source": [
    "if userAnswer == theAnswer:\n",
    "    print(\"Excellent!  Happy hitchhiking and don't forget your towel!\")\n",
    "    \n",
    "else:\n",
    "    print(\"Bummer, mate.  So long, and thanks for all the fish.\")\n",
    "    \n",
    "print()\n",
    "\n",
    "print(\"Alright, that bit isn't working yet, but I'll mess around \"\n",
    "      \"with this later when I have a chance and don't need to jump to other work.\")"
   ]
  },
  {
   "cell_type": "markdown",
   "id": "varied-encyclopedia",
   "metadata": {},
   "source": [
    "I think Queen is one of the most musically skilled bands/artists in history."
   ]
  },
  {
   "cell_type": "markdown",
   "id": "downtown-valley",
   "metadata": {},
   "source": [
    "Anyway, thanks for reading my odd content here.  I think I'll struggle to commit this properly because this GitHub push/pull/commit business is going to be a learning curve for me."
   ]
  }
 ],
 "metadata": {
  "kernelspec": {
   "display_name": "Python 3",
   "language": "python",
   "name": "python3"
  },
  "language_info": {
   "codemirror_mode": {
    "name": "ipython",
    "version": 3
   },
   "file_extension": ".py",
   "mimetype": "text/x-python",
   "name": "python",
   "nbconvert_exporter": "python",
   "pygments_lexer": "ipython3",
   "version": "3.8.5"
  }
 },
 "nbformat": 4,
 "nbformat_minor": 5
}
